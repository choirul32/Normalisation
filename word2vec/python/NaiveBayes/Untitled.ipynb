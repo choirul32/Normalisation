{
 "cells": [
  {
   "cell_type": "code",
   "execution_count": 1,
   "metadata": {},
   "outputs": [],
   "source": [
    "import csv\n",
    "import random\n",
    "import nltk\n",
    "from nltk.util import ngrams\n",
    "from Sastrawi.Stemmer.StemmerFactory import StemmerFactory"
   ]
  },
  {
   "cell_type": "code",
   "execution_count": 2,
   "metadata": {},
   "outputs": [],
   "source": [
    "factory = StemmerFactory()\n",
    "stemmer = factory.create_stemmer()"
   ]
  },
  {
   "cell_type": "code",
   "execution_count": 3,
   "metadata": {},
   "outputs": [],
   "source": [
    "def loadCsv(filename):\n",
    "\tlines = csv.reader(open(filename, \"r\"))\n",
    "\tdataset = list(lines)\n",
    "\tfor i in range(len(dataset)):\n",
    "\t\tdataset[i] = [x for x in dataset[i]]\n",
    "\treturn dataset"
   ]
  },
  {
   "cell_type": "code",
   "execution_count": 4,
   "metadata": {},
   "outputs": [],
   "source": [
    "def splitDataset(dataset, splitRatio):\n",
    "\ttrainSize = int(len(dataset) * splitRatio)\n",
    "\ttrainSet = []\n",
    "\tcopy = list(dataset)\n",
    "\twhile len(trainSet) < trainSize:\n",
    "\t\tindex = random.randrange(len(copy))\n",
    "\t\ttrainSet.append(copy.pop(index))\n",
    "\treturn [trainSet, copy]"
   ]
  },
  {
   "cell_type": "code",
   "execution_count": 5,
   "metadata": {},
   "outputs": [],
   "source": [
    "def word_features(word):\n",
    "    return dict(((ng, True) for ng in ngrams(word.lower(),4)))"
   ]
  },
  {
   "cell_type": "code",
   "execution_count": 7,
   "metadata": {},
   "outputs": [
    {
     "name": "stderr",
     "output_type": "stream",
     "text": [
      "C:\\Users\\GoldFire\\Anaconda3\\lib\\site-packages\\ipykernel_launcher.py:2: DeprecationWarning: generator 'ngrams' raised StopIteration\n",
      "  \n"
     ]
    },
    {
     "name": "stdout",
     "output_type": "stream",
     "text": [
      "Classifier accuracy percent:  82.82144716293597\n",
      "Most Informative Features\n",
      "    ('n', 'g', 'e', 'b') = True           Tidak  : Baku   =     81.5 : 1.0\n",
      "    ('r', 'n', 'y', 'a') = True           Tidak  : Baku   =     69.0 : 1.0\n",
      "    ('b', 'o', 's', 'e') = True           Tidak  : Baku   =     56.4 : 1.0\n",
      "    ('i', 'n', 'j', 'e') = True           Tidak  : Baku   =     43.9 : 1.0\n",
      "    ('m', 'a', 'l', 'e') = True           Tidak  : Baku   =     43.9 : 1.0\n",
      "    ('f', 'i', 'k', 'i') = True           Tidak  : Baku   =     43.9 : 1.0\n",
      "    ('w', 'a', 'r', 'g') = True           Tidak  : Baku   =     31.4 : 1.0\n",
      "    ('h', 'a', 'r', 'g') = True           Tidak  : Baku   =     31.4 : 1.0\n",
      "    ('p', 'n', 'y', 'a') = True           Tidak  : Baku   =     31.4 : 1.0\n",
      "    ('n', 'y', 'e', 's') = True           Tidak  : Baku   =     31.4 : 1.0\n"
     ]
    }
   ],
   "source": [
    "filename = 'corpus.csv'\n",
    "dataset = loadCsv(filename)\n",
    "splitRatio = 0.70\n",
    "training_set, testing_set = splitDataset(dataset, splitRatio)\n",
    "\n",
    "training_set = [(word_features(n), jenis_kata) for (n, jenis_kata) in training_set]\n",
    "testing_set = [(word_features(n), jenis_kata) for (n, jenis_kata) in testing_set]\n",
    "classifier = nltk.NaiveBayesClassifier.train(training_set)\n",
    "print(\"Classifier accuracy percent: \",nltk.classify.accuracy(classifier, testing_set)*100)\n",
    "classifier.show_most_informative_features()"
   ]
  },
  {
   "cell_type": "code",
   "execution_count": 8,
   "metadata": {},
   "outputs": [],
   "source": [
    "def testClassification(text):\n",
    "\ttext = stemmer.stem(text)\n",
    "\treturn classifier.classify(word_features(text))"
   ]
  },
  {
   "cell_type": "code",
   "execution_count": 9,
   "metadata": {
    "scrolled": true
   },
   "outputs": [
    {
     "data": {
      "text/plain": [
       "'Baku'"
      ]
     },
     "execution_count": 9,
     "metadata": {},
     "output_type": "execute_result"
    }
   ],
   "source": [
    "testClassification(\"mampu\")"
   ]
  },
  {
   "cell_type": "code",
   "execution_count": null,
   "metadata": {},
   "outputs": [],
   "source": []
  }
 ],
 "metadata": {
  "kernelspec": {
   "display_name": "Python 3",
   "language": "python",
   "name": "python3"
  },
  "language_info": {
   "codemirror_mode": {
    "name": "ipython",
    "version": 3
   },
   "file_extension": ".py",
   "mimetype": "text/x-python",
   "name": "python",
   "nbconvert_exporter": "python",
   "pygments_lexer": "ipython3",
   "version": "3.6.5"
  }
 },
 "nbformat": 4,
 "nbformat_minor": 2
}
